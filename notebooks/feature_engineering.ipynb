{
 "cells": [
  {
   "cell_type": "code",
   "execution_count": 1,
   "metadata": {},
   "outputs": [],
   "source": [
    "import numpy as np\n",
    "import pandas as pd\n",
    "base_path = \"C:/Users/99818854/Projetos/GitRep/adaptive_learning\""
   ]
  },
  {
   "cell_type": "code",
   "execution_count": 2,
   "metadata": {},
   "outputs": [],
   "source": [
    "df = pd.read_csv(f\"{base_path}/data/Dataset_model.csv\", low_memory=False)"
   ]
  },
  {
   "cell_type": "code",
   "execution_count": 4,
   "metadata": {},
   "outputs": [
    {
     "data": {
      "text/plain": [
       "array([0, 1], dtype=int64)"
      ]
     },
     "execution_count": 4,
     "metadata": {},
     "output_type": "execute_result"
    }
   ],
   "source": [
    "df[\"acertou\"].unique()"
   ]
  },
  {
   "cell_type": "code",
   "execution_count": 23,
   "metadata": {},
   "outputs": [],
   "source": [
    "data = []\n",
    "for user in df[\"novo_user_id\"].unique():\n",
    "    subset = df.query(f\"novo_user_id == {user}\").sort_values(\"created_at\")\n",
    "    areas = {}\n",
    "\n",
    "    for i in range(0, len(subset)):\n",
    "        area = subset[\"knowledge_area_id\"].values[i]\n",
    "        if area not in areas.keys():\n",
    "            areas[area] = {0: 0, 1: 0, 2: 0, 3: 0, 4: 0, 5: 0}\n",
    "\n",
    "        if subset[\"acertou\"].values[i] == 1:\n",
    "            areas[area][0] = areas[area][0] + 1\n",
    "            difficulty = subset[\"difficulty\"].values[i]\n",
    "\n",
    "            if not difficulty:\n",
    "                areas[area][difficulty] = areas[area][difficulty] + 1\n",
    "\n",
    "        data.append({\n",
    "            \"user_id\": subset[\"novo_user_id\"].values[i],\n",
    "            \"area\": subset[\"knowledge_area_id\"].values[i],\n",
    "            \"difficulty\": difficulty,\n",
    "            \"points\": areas[area][0],\n",
    "            \"points1\": areas[area][1],\n",
    "            \"points2\": areas[area][2],\n",
    "            \"points3\": areas[area][3],\n",
    "            \"points4\": areas[area][4],\n",
    "            \"points5\": areas[area][5],\n",
    "            \"right\": subset[\"acertou\"].values[i]\n",
    "        })\n",
    "\n",
    "data = pd.DataFrame(data)\n",
    "data.to_csv(f\"{base_path}/data/mastery.csv\", index=False)"
   ]
  },
  {
   "cell_type": "code",
   "execution_count": 21,
   "metadata": {},
   "outputs": [
    {
     "data": {
      "text/plain": [
       "array([[ 0. ],\n",
       "       [ 0. ],\n",
       "       [ 1.5],\n",
       "       ...,\n",
       "       [78.6],\n",
       "       [78.6],\n",
       "       [78.6]])"
      ]
     },
     "execution_count": 21,
     "metadata": {},
     "output_type": "execute_result"
    }
   ],
   "source": [
    "np.dot(data.values[:, 2:-1], [[1], [0.5], [0.5], [0.5], [0.7], [0.8]])"
   ]
  },
  {
   "cell_type": "code",
   "execution_count": 18,
   "metadata": {},
   "outputs": [
    {
     "data": {
      "text/plain": [
       "array([0., 0., 0., 0., 0., 0.])"
      ]
     },
     "execution_count": 18,
     "metadata": {},
     "output_type": "execute_result"
    }
   ],
   "source": [
    "data.values[:, 2:-1][0]"
   ]
  },
  {
   "cell_type": "code",
   "execution_count": 17,
   "metadata": {},
   "outputs": [
    {
     "data": {
      "text/html": [
       "<div>\n",
       "<style scoped>\n",
       "    .dataframe tbody tr th:only-of-type {\n",
       "        vertical-align: middle;\n",
       "    }\n",
       "\n",
       "    .dataframe tbody tr th {\n",
       "        vertical-align: top;\n",
       "    }\n",
       "\n",
       "    .dataframe thead th {\n",
       "        text-align: right;\n",
       "    }\n",
       "</style>\n",
       "<table border=\"1\" class=\"dataframe\">\n",
       "  <thead>\n",
       "    <tr style=\"text-align: right;\">\n",
       "      <th></th>\n",
       "      <th>user_id</th>\n",
       "      <th>area</th>\n",
       "      <th>points</th>\n",
       "      <th>points1</th>\n",
       "      <th>points2</th>\n",
       "      <th>points3</th>\n",
       "      <th>points4</th>\n",
       "      <th>points5</th>\n",
       "      <th>right</th>\n",
       "    </tr>\n",
       "  </thead>\n",
       "  <tbody>\n",
       "    <tr>\n",
       "      <th>0</th>\n",
       "      <td>1</td>\n",
       "      <td>13.0</td>\n",
       "      <td>0</td>\n",
       "      <td>0</td>\n",
       "      <td>0</td>\n",
       "      <td>0</td>\n",
       "      <td>0</td>\n",
       "      <td>0</td>\n",
       "      <td>0</td>\n",
       "    </tr>\n",
       "    <tr>\n",
       "      <th>1</th>\n",
       "      <td>1</td>\n",
       "      <td>13.0</td>\n",
       "      <td>0</td>\n",
       "      <td>0</td>\n",
       "      <td>0</td>\n",
       "      <td>0</td>\n",
       "      <td>0</td>\n",
       "      <td>0</td>\n",
       "      <td>0</td>\n",
       "    </tr>\n",
       "    <tr>\n",
       "      <th>2</th>\n",
       "      <td>1</td>\n",
       "      <td>13.0</td>\n",
       "      <td>1</td>\n",
       "      <td>0</td>\n",
       "      <td>0</td>\n",
       "      <td>1</td>\n",
       "      <td>0</td>\n",
       "      <td>0</td>\n",
       "      <td>1</td>\n",
       "    </tr>\n",
       "    <tr>\n",
       "      <th>3</th>\n",
       "      <td>1</td>\n",
       "      <td>13.0</td>\n",
       "      <td>1</td>\n",
       "      <td>0</td>\n",
       "      <td>0</td>\n",
       "      <td>1</td>\n",
       "      <td>0</td>\n",
       "      <td>0</td>\n",
       "      <td>0</td>\n",
       "    </tr>\n",
       "    <tr>\n",
       "      <th>4</th>\n",
       "      <td>1</td>\n",
       "      <td>13.0</td>\n",
       "      <td>2</td>\n",
       "      <td>0</td>\n",
       "      <td>0</td>\n",
       "      <td>2</td>\n",
       "      <td>0</td>\n",
       "      <td>0</td>\n",
       "      <td>1</td>\n",
       "    </tr>\n",
       "    <tr>\n",
       "      <th>...</th>\n",
       "      <td>...</td>\n",
       "      <td>...</td>\n",
       "      <td>...</td>\n",
       "      <td>...</td>\n",
       "      <td>...</td>\n",
       "      <td>...</td>\n",
       "      <td>...</td>\n",
       "      <td>...</td>\n",
       "      <td>...</td>\n",
       "    </tr>\n",
       "    <tr>\n",
       "      <th>1999995</th>\n",
       "      <td>20000</td>\n",
       "      <td>27.0</td>\n",
       "      <td>51</td>\n",
       "      <td>15</td>\n",
       "      <td>22</td>\n",
       "      <td>11</td>\n",
       "      <td>3</td>\n",
       "      <td>0</td>\n",
       "      <td>1</td>\n",
       "    </tr>\n",
       "    <tr>\n",
       "      <th>1999996</th>\n",
       "      <td>20000</td>\n",
       "      <td>27.0</td>\n",
       "      <td>52</td>\n",
       "      <td>16</td>\n",
       "      <td>22</td>\n",
       "      <td>11</td>\n",
       "      <td>3</td>\n",
       "      <td>0</td>\n",
       "      <td>1</td>\n",
       "    </tr>\n",
       "    <tr>\n",
       "      <th>1999997</th>\n",
       "      <td>20000</td>\n",
       "      <td>27.0</td>\n",
       "      <td>52</td>\n",
       "      <td>16</td>\n",
       "      <td>22</td>\n",
       "      <td>11</td>\n",
       "      <td>3</td>\n",
       "      <td>0</td>\n",
       "      <td>0</td>\n",
       "    </tr>\n",
       "    <tr>\n",
       "      <th>1999998</th>\n",
       "      <td>20000</td>\n",
       "      <td>27.0</td>\n",
       "      <td>52</td>\n",
       "      <td>16</td>\n",
       "      <td>22</td>\n",
       "      <td>11</td>\n",
       "      <td>3</td>\n",
       "      <td>0</td>\n",
       "      <td>0</td>\n",
       "    </tr>\n",
       "    <tr>\n",
       "      <th>1999999</th>\n",
       "      <td>20000</td>\n",
       "      <td>27.0</td>\n",
       "      <td>52</td>\n",
       "      <td>16</td>\n",
       "      <td>22</td>\n",
       "      <td>11</td>\n",
       "      <td>3</td>\n",
       "      <td>0</td>\n",
       "      <td>0</td>\n",
       "    </tr>\n",
       "  </tbody>\n",
       "</table>\n",
       "<p>2000000 rows × 9 columns</p>\n",
       "</div>"
      ],
      "text/plain": [
       "         user_id  area  points  points1  points2  points3  points4  points5  \\\n",
       "0              1  13.0       0        0        0        0        0        0   \n",
       "1              1  13.0       0        0        0        0        0        0   \n",
       "2              1  13.0       1        0        0        1        0        0   \n",
       "3              1  13.0       1        0        0        1        0        0   \n",
       "4              1  13.0       2        0        0        2        0        0   \n",
       "...          ...   ...     ...      ...      ...      ...      ...      ...   \n",
       "1999995    20000  27.0      51       15       22       11        3        0   \n",
       "1999996    20000  27.0      52       16       22       11        3        0   \n",
       "1999997    20000  27.0      52       16       22       11        3        0   \n",
       "1999998    20000  27.0      52       16       22       11        3        0   \n",
       "1999999    20000  27.0      52       16       22       11        3        0   \n",
       "\n",
       "         right  \n",
       "0            0  \n",
       "1            0  \n",
       "2            1  \n",
       "3            0  \n",
       "4            1  \n",
       "...        ...  \n",
       "1999995      1  \n",
       "1999996      1  \n",
       "1999997      0  \n",
       "1999998      0  \n",
       "1999999      0  \n",
       "\n",
       "[2000000 rows x 9 columns]"
      ]
     },
     "execution_count": 17,
     "metadata": {},
     "output_type": "execute_result"
    }
   ],
   "source": [
    "data"
   ]
  },
  {
   "cell_type": "code",
   "execution_count": 4,
   "metadata": {},
   "outputs": [],
   "source": [
    "data = []\n",
    "mean_difficulty = round(np.mean(df[\"difficulty\"].dropna()))\n",
    "#mean_difficulty = 0\n",
    "for user in df[\"novo_user_id\"].unique():\n",
    "    subset = df.query(f\"novo_user_id == {user}\").sort_values(\"created_at\")\n",
    "    for i in range(0, len(subset)):\n",
    "        data.append({\n",
    "            \"user_id\": subset[\"novo_user_id\"].values[i],\n",
    "            \"difficulty\": mean_difficulty if np.isnan(subset[\"difficulty\"].values[i]) else subset[\"difficulty\"].values[i],\n",
    "            \"area\": subset[\"knowledge_area_id\"].values[i],\n",
    "            \"right\": subset[\"acertou\"].values[i]\n",
    "        })\n",
    "\n",
    "data = pd.DataFrame(data)\n",
    "data.to_csv(f\"{base_path}/data/mastery.csv\", index=False)"
   ]
  }
 ],
 "metadata": {
  "kernelspec": {
   "display_name": "Python 3.7.6 ('.venv': venv)",
   "language": "python",
   "name": "python3"
  },
  "language_info": {
   "codemirror_mode": {
    "name": "ipython",
    "version": 3
   },
   "file_extension": ".py",
   "mimetype": "text/x-python",
   "name": "python",
   "nbconvert_exporter": "python",
   "pygments_lexer": "ipython3",
   "version": "3.7.6"
  },
  "orig_nbformat": 4,
  "vscode": {
   "interpreter": {
    "hash": "680323f05412a6a647162f4f4d69f1087cf97209bdf9c308c69b217830577ebd"
   }
  }
 },
 "nbformat": 4,
 "nbformat_minor": 2
}
