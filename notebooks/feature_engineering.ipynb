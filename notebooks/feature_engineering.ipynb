{
 "cells": [
  {
   "cell_type": "markdown",
   "metadata": {},
   "source": [
    "## Definições\n",
    "Bibliotecas utilizadas e definições de path. Para facilitar a manipulação de arquivos, o diretório do projeto é definido neste ponto. Também é realizada a carga dos dados brutos, que serão processados para gerar o conjunto de dados interpretável que alimentará a modelagem."
   ]
  },
  {
   "cell_type": "code",
   "execution_count": 3,
   "metadata": {},
   "outputs": [],
   "source": [
    "import numpy as np\n",
    "import pandas as pd\n",
    "#base_path = \"C:/Users/99818854/Projetos/GitRep/adaptive_learning\"\n",
    "base_path = \"/media/bruno/Arquivos/Desenvolvimento/NextQuestion\""
   ]
  },
  {
   "cell_type": "code",
   "execution_count": 4,
   "metadata": {},
   "outputs": [],
   "source": [
    "df = pd.read_csv(f\"{base_path}/data/Dataset_model.csv\", low_memory=False)"
   ]
  },
  {
   "cell_type": "markdown",
   "metadata": {},
   "source": [
    "## Estratégia\n",
    "Carregar todos os dados disponíveis na base para uma modelagem não é particularmente interessante, principalmente pela quantidade de dimensões e a falta de valor de negócio em alguns campos. Pensando em aprendizagem adaptativa, podemos definir esse termo como o monitoramento da maestria adquirida por uma pessoa ao interagir com conteúdos educacionais. Dessa forma, o grande desafio é: como definir maestria?\n",
    "\n",
    "Utilizando a abordagem restrita, a maestria é atingida sempre que uma interação positiva é feita, ou seja, quando uma pessoa responde corretamente um problema qualquer sobre o assunto que está aprendendo. Essa maestria adquirida potencializa a sua capacidade cognitiva para responder corretamente novos desafios, mesmo que não sejam no mesmo nível de dificuldade daquele executado com sucesso anteriormente.\n",
    "\n",
    "Adaptando para o caso deste repositório, temos disponíveis uma série de registros de problemas resolvidos por diversas pessoas em uma plataforma de ensino, contando com os campos de acerto, nível de dificuldade, área de conhecimento e data de realização. Montando uma série temporal para cada pessoa, podemos contar a quantidade de acertos acumulado em cada momento, assim como contar a quantidade de acertos em determinado nível de dificuldade (1 a 5). Dessa forma teremos um conjunto de dados que, para cada pessoa, em cada tentativa, apresenta o histórico prévio da quantidade de questões acertadas para aquela determinada área de conhecimento. Essa quantidade é a base para definir a maestria do respondente no momento em que resolve a atividade.\n",
    "\n",
    "A partir da quantidade de acertos acumulados, atribui-se uma determinada pontuação para cada item (acerto geral e acerto em determinada dificuldade), de modo que a soma dessa pontuação resulta em um número que vamos chamar de maestria. Resumidamente, uma vez que a base passa a ser formatada em uma série temporal com acertos acumulados, é possível calcular a maestria em cada momento. Os valores da pontuação serão trabalhados no próximo notebook (param_tuning).\n",
    "\n",
    "Separar a quantidade de acertos totais da quantidade de acertos em cada nível de dificuldade é uma estratégia para tentar reduzir ao máximo o problema de data leakage, uma vez que a maestria é uma função que depende do tempo e existem campos nulos relativos à dificuldade na base de dados original. A ideia é sempre pontuar quando um acerto for feito, independente do nível de dificuldade, porém incluir um pequeno bônus na pontuação de acordo com o nível de dificuldade. Isso faz com que, no cálculo de maestria, os valores nulos sejam ignorados nas colunas que contas a quantidade de questões em determinada dificuldade, porém o acerto ainda é computado no acumulado de acertos gerais, que independe da dificuldade."
   ]
  },
  {
   "cell_type": "code",
   "execution_count": 7,
   "metadata": {},
   "outputs": [],
   "source": [
    "data = []\n",
    "for user in df[\"novo_user_id\"].unique():\n",
    "    # Para cada usuário, faz a ordenação das respostas, da mais antiga para\n",
    "    # a mais recente para criar a série histórica adequada\n",
    "    subset = df.query(f\"novo_user_id == {user}\").sort_values(\"created_at\")\n",
    "    areas = {}\n",
    "\n",
    "    for i in range(0, len(subset)):\n",
    "        # Carrega principais informações de processamento\n",
    "        area = subset[\"knowledge_area_id\"].values[i]\n",
    "        difficulty = subset[\"difficulty\"].values[i]\n",
    "\n",
    "        # Instancia o dicionário de contagem de acertos\n",
    "        if area not in areas.keys():\n",
    "            areas[area] = {0: 0, 1: 0, 2: 0, 3: 0, 4: 0, 5: 0}\n",
    "        \n",
    "        # Caso exista um acerto, computa +1 na contagem geral e, caso a\n",
    "        # dificuldade esteja presente, computa +1 da dificuldade específica\n",
    "        if subset[\"acertou\"].values[i] == 1:\n",
    "            areas[area][0] = areas[area][0] + 1\n",
    "            if not np.isnan(difficulty):\n",
    "                areas[area][difficulty] = areas[area][difficulty] + 1\n",
    "\n",
    "        # Armazena na lista que criará o conjunto de dados final\n",
    "        data.append({\n",
    "            \"user_id\": subset[\"novo_user_id\"].values[i],\n",
    "            \"area\": subset[\"knowledge_area_id\"].values[i],\n",
    "            \"difficulty\": difficulty,\n",
    "            \"points\": areas[area][0],\n",
    "            \"points1\": areas[area][1],\n",
    "            \"points2\": areas[area][2],\n",
    "            \"points3\": areas[area][3],\n",
    "            \"points4\": areas[area][4],\n",
    "            \"points5\": areas[area][5],\n",
    "            \"right\": subset[\"acertou\"].values[i]\n",
    "        })\n",
    "\n",
    "# Armazena o conjunto processado no diretório do projeto, para utilização posterior\n",
    "data = pd.DataFrame(data)\n",
    "data.to_csv(f\"{base_path}/data/mastery.csv\", index=False)"
   ]
  },
  {
   "cell_type": "markdown",
   "metadata": {},
   "source": [
    "## Referências\n",
    "\n",
    "YU, L. Q; WILSON, R. C. & NASSAR, M. R. Adaptive learning is structure learning in time. Neuroscience & Biobehavioral Reviews, v. 128, p. 270-281, 2021.\n",
    "\n",
    "CAVANAGH, T. et al. Constructing a Design Framework and Pedagogical Approach for Adaptive Learning in Higher Education: A Practitioner's Perspective. International Review of Research in Open and Distributed Learning, v. 21, n. 1, p. 173-197, 2020.\n",
    "\n",
    "ARSOVIC, B. & STEFANOVIC, N. E-learning based on the adaptive learning model: case study in Serbia. Sādhanā, v. 45, 2020"
   ]
  }
 ],
 "metadata": {
  "kernelspec": {
   "display_name": "Python 3.10.6 ('.venv': venv)",
   "language": "python",
   "name": "python3"
  },
  "language_info": {
   "codemirror_mode": {
    "name": "ipython",
    "version": 3
   },
   "file_extension": ".py",
   "mimetype": "text/x-python",
   "name": "python",
   "nbconvert_exporter": "python",
   "pygments_lexer": "ipython3",
   "version": "3.10.6"
  },
  "orig_nbformat": 4,
  "vscode": {
   "interpreter": {
    "hash": "bc00ff16b4df0209bbddf1b626f49197057a777b854bf55225ef9bf508d8a9ea"
   }
  }
 },
 "nbformat": 4,
 "nbformat_minor": 2
}
