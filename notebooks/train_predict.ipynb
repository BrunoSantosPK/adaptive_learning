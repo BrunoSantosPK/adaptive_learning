{
 "cells": [
  {
   "cell_type": "code",
   "execution_count": 1,
   "metadata": {},
   "outputs": [],
   "source": [
    "import numpy as np\n",
    "import pandas as pd\n",
    "from typing import List\n",
    "from sklearn.metrics import confusion_matrix\n",
    "from sklearn.linear_model import SGDClassifier\n",
    "from sklearn.tree import DecisionTreeClassifier\n",
    "from sklearn.ensemble import RandomForestClassifier\n",
    "from sklearn.model_selection import train_test_split\n",
    "\n",
    "#base_path = \"C:/Users/99818854/Projetos/GitRep/adaptive_learning\"\n",
    "base_path = \"/media/bruno/Arquivos/Desenvolvimento/NextQuestion\""
   ]
  },
  {
   "cell_type": "code",
   "execution_count": 2,
   "metadata": {},
   "outputs": [],
   "source": [
    "base = pd.read_csv(f\"{base_path}/data/mastery.csv\")\n",
    "submit = pd.read_csv(f\"{base_path}/data/Submit.csv\", sep=\";\")"
   ]
  },
  {
   "cell_type": "code",
   "execution_count": 3,
   "metadata": {},
   "outputs": [],
   "source": [
    "mastery_params = [[4.44], [0.33], [0.86], [0.86], [0.46], [0.39]]\n",
    "mastery = np.dot(base.values[:, 3:-1], mastery_params)\n",
    "X, y = np.concatenate((base.values[:, 2:3], mastery), axis=1), base.values[:, -1]\n",
    "\n",
    "X_train, X_test, y_train, y_test = train_test_split(X, y, test_size=0.3)\n",
    "mean_difficulty = round(np.nanmean(X_train[:, 0]))\n",
    "X_train[np.isnan(X_train)] = mean_difficulty\n",
    "X_test[np.isnan(X_test)] = mean_difficulty\n",
    "\n",
    "user_data = {}\n",
    "group = base.groupby([\"user_id\", \"area\"])[[\n",
    "    \"points\", \"points1\", \"points2\", \"points3\", \"points4\", \"points5\"\n",
    "]].agg(\"max\")\n",
    "\n",
    "for i in range(0, len(group)):\n",
    "    user_id, area = group.index[i]\n",
    "    if user_id not in user_data.keys():\n",
    "        user_data[user_id] = {}\n",
    "    user_data[user_id][area] = np.dot(group.values[i], mastery_params)[0]\n",
    "\n",
    "def search_mastery(user_id, area):\n",
    "    if user_id not in user_data.keys():\n",
    "        return 0\n",
    "    if area not in user_data[user_id].keys():\n",
    "        return 0\n",
    "    return user_data[user_id][area]"
   ]
  },
  {
   "cell_type": "code",
   "execution_count": 23,
   "metadata": {},
   "outputs": [
    {
     "data": {
      "text/plain": [
       "(0.6862066666666666,\n",
       " 0.7164698280884237,\n",
       " 0.8613575181526221,\n",
       " 0.7822613474455526)"
      ]
     },
     "execution_count": 23,
     "metadata": {},
     "output_type": "execute_result"
    }
   ],
   "source": [
    "model = SGDClassifier(loss=\"log_loss\", learning_rate=\"adaptive\", eta0=0.001)\n",
    "model.fit(X_train, y_train)\n",
    "y_predict = model.predict(X_test)\n",
    "\n",
    "tn, fp, fn, tp = confusion_matrix(y_test, y_predict).ravel()\n",
    "accuracy = (tp + tn) / (tn + fp + fn + tp)\n",
    "precision = tp / (tp + fp)\n",
    "recall = tp / (tp + fn)\n",
    "f1 = 2 * (precision * recall) / (precision + recall)\n",
    "\n",
    "accuracy, precision, recall, f1"
   ]
  },
  {
   "cell_type": "code",
   "execution_count": 34,
   "metadata": {},
   "outputs": [
    {
     "data": {
      "text/plain": [
       "predict\n",
       "0.0     3561\n",
       "1.0    16439\n",
       "Name: predict, dtype: int64"
      ]
     },
     "execution_count": 34,
     "metadata": {},
     "output_type": "execute_result"
    }
   ],
   "source": [
    "df = submit[[\"difficulty\", \"novo_user_id\", \"knowledge_area_id\"]]\n",
    "df = df.fillna(mean_difficulty)\n",
    "df[\"mastery\"] = [search_mastery(df[\"novo_user_id\"].values[i], df[\"knowledge_area_id\"].values[i]) for i in range(0, len(df))]\n",
    "\n",
    "df[\"predict\"] = model.predict(df[[\"difficulty\", \"mastery\"]].values)\n",
    "pd.DataFrame(df[\"predict\"].values, columns=[\"acertou\"]).to_csv(f\"{base_path}/data/result.csv\", index=False)\n",
    "df.groupby(\"predict\")[\"predict\"].count()"
   ]
  },
  {
   "cell_type": "code",
   "execution_count": 27,
   "metadata": {},
   "outputs": [
    {
     "data": {
      "text/plain": [
       "(0.7138616666666666,\n",
       " 0.7271512340348539,\n",
       " 0.9007317079382543,\n",
       " 0.8046870644983305)"
      ]
     },
     "execution_count": 27,
     "metadata": {},
     "output_type": "execute_result"
    }
   ],
   "source": [
    "model = DecisionTreeClassifier(criterion=\"entropy\")\n",
    "model.fit(X_train, y_train)\n",
    "y_predict = model.predict(X_test)\n",
    "\n",
    "tn, fp, fn, tp = confusion_matrix(y_test, y_predict).ravel()\n",
    "accuracy = (tp + tn) / (tn + fp + fn + tp)\n",
    "precision = tp / (tp + fp)\n",
    "recall = tp / (tp + fn)\n",
    "f1 = 2 * (precision * recall) / (precision + recall)\n",
    "\n",
    "accuracy, precision, recall, f1"
   ]
  }
 ],
 "metadata": {
  "kernelspec": {
   "display_name": "Python 3.10.6 ('.venv': venv)",
   "language": "python",
   "name": "python3"
  },
  "language_info": {
   "codemirror_mode": {
    "name": "ipython",
    "version": 3
   },
   "file_extension": ".py",
   "mimetype": "text/x-python",
   "name": "python",
   "nbconvert_exporter": "python",
   "pygments_lexer": "ipython3",
   "version": "3.10.6"
  },
  "orig_nbformat": 4,
  "vscode": {
   "interpreter": {
    "hash": "bc00ff16b4df0209bbddf1b626f49197057a777b854bf55225ef9bf508d8a9ea"
   }
  }
 },
 "nbformat": 4,
 "nbformat_minor": 2
}
