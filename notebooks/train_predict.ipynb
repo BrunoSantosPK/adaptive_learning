{
 "cells": [
  {
   "cell_type": "code",
   "execution_count": null,
   "metadata": {},
   "outputs": [],
   "source": [
    "import pandas as pd\n",
    "#base_path = \"C:/Users/99818854/Projetos/GitRep/adaptive_learning\"\n",
    "base_path = \"/media/bruno/Arquivos/Desenvolvimento/NextQuestion\""
   ]
  },
  {
   "cell_type": "code",
   "execution_count": null,
   "metadata": {},
   "outputs": [],
   "source": [
    "base = pd.read_csv(f\"{base_path}/data/mastery.csv\")\n",
    "submit = pd.read_csv(f\"{base_path}/data/Submit.csv\", sep=\";\")"
   ]
  },
  {
   "cell_type": "code",
   "execution_count": null,
   "metadata": {},
   "outputs": [],
   "source": []
  }
 ],
 "metadata": {
  "kernelspec": {
   "display_name": "Python 3.10.6 ('.venv': venv)",
   "language": "python",
   "name": "python3"
  },
  "language_info": {
   "name": "python",
   "version": "3.10.6"
  },
  "orig_nbformat": 4,
  "vscode": {
   "interpreter": {
    "hash": "bc00ff16b4df0209bbddf1b626f49197057a777b854bf55225ef9bf508d8a9ea"
   }
  }
 },
 "nbformat": 4,
 "nbformat_minor": 2
}
