{
 "cells": [
  {
   "cell_type": "code",
   "execution_count": 1,
   "metadata": {},
   "outputs": [],
   "source": [
    "import numpy as np\n",
    "import pandas as pd\n",
    "from typing import List\n",
    "from sklearn.metrics import confusion_matrix\n",
    "from sklearn.linear_model import SGDClassifier\n",
    "from sklearn.model_selection import train_test_split\n",
    "\n",
    "#base_path = \"C:/Users/99818854/Projetos/GitRep/adaptive_learning\"\n",
    "base_path = \"/media/bruno/Arquivos/Desenvolvimento/NextQuestion\""
   ]
  },
  {
   "cell_type": "code",
   "execution_count": 2,
   "metadata": {},
   "outputs": [],
   "source": [
    "base = pd.read_csv(f\"{base_path}/data/mastery.csv\")\n",
    "submit = pd.read_csv(f\"{base_path}/data/Submit.csv\", sep=\";\")"
   ]
  },
  {
   "cell_type": "code",
   "execution_count": 3,
   "metadata": {},
   "outputs": [],
   "source": [
    "mastery_params = [[4.44], [0.33], [0.86], [0.86], [0.46], [0.39]]\n",
    "mastery = np.dot(base.values[:, 3:-1], mastery_params)\n",
    "X, y = np.concatenate((base.values[:, 2:3], mastery), axis=1), base.values[:, -1]\n",
    "\n",
    "X_train, X_test, y_train, y_test = train_test_split(X, y, test_size=0.3)\n",
    "mean_difficulty = round(np.nanmean(X_train[:, 0]))\n",
    "X_train[np.isnan(X_train)] = mean_difficulty\n",
    "X_test[np.isnan(X_test)] = mean_difficulty"
   ]
  },
  {
   "cell_type": "code",
   "execution_count": 9,
   "metadata": {},
   "outputs": [
    {
     "data": {
      "text/plain": [
       "2"
      ]
     },
     "execution_count": 9,
     "metadata": {},
     "output_type": "execute_result"
    }
   ],
   "source": [
    "mean_difficulty"
   ]
  },
  {
   "cell_type": "code",
   "execution_count": 4,
   "metadata": {},
   "outputs": [],
   "source": [
    "total_models = 15\n",
    "models: List[SGDClassifier] = []\n",
    "\n",
    "for i in range(0, total_models):\n",
    "    X_sample, y_sample = [], []\n",
    "    while len(X_sample) != len(X_train):\n",
    "        j = np.random.randint(0, len(X_train))\n",
    "        X_sample.append(X_train[j])\n",
    "        y_sample.append(y_train[j])\n",
    "\n",
    "    model = SGDClassifier(loss=\"log_loss\", learning_rate=\"adaptive\", eta0=0.001)\n",
    "    model.fit(X_sample, y_sample)\n",
    "    models.append(model)"
   ]
  },
  {
   "cell_type": "code",
   "execution_count": 5,
   "metadata": {},
   "outputs": [],
   "source": [
    "def predict(models: List[SGDClassifier], test):\n",
    "    votes = []\n",
    "    for model in models:\n",
    "        y_pred_test = model.predict(test)\n",
    "        votes.append(y_pred_test)\n",
    "\n",
    "    result = []\n",
    "    for i in range(0, len(test)):\n",
    "        total = []\n",
    "        for j in range(0, len(votes)):\n",
    "            total.append(votes[j][i])\n",
    "        predict = np.mean(total)\n",
    "        result.append(1 if predict > 0.5 else 0)\n",
    "\n",
    "    tn, fp, fn, tp = confusion_matrix(y_test, result).ravel()\n",
    "    return result, tn, fp, fn, tp"
   ]
  },
  {
   "cell_type": "code",
   "execution_count": 8,
   "metadata": {},
   "outputs": [],
   "source": [
    "votes = []\n",
    "for model in models:\n",
    "    y_pred_test = model.predict(X_test)\n",
    "    votes.append(y_pred_test)\n",
    "\n",
    "result = []\n",
    "for i in range(0, len(X_test)):\n",
    "    total = []\n",
    "    for j in range(0, len(votes)):\n",
    "        total.append(votes[j][i])\n",
    "    predict = np.mean(total)\n",
    "    result.append(1 if predict > 0.5 else 0)\n",
    "\n",
    "tn, fp, fn, tp = confusion_matrix(y_test, result).ravel()"
   ]
  },
  {
   "cell_type": "code",
   "execution_count": 10,
   "metadata": {},
   "outputs": [],
   "source": [
    "accuracy = (tp + tn) / (tn + fp + fn + tp)\n",
    "precision = tp / (tp + fp)\n",
    "recall = tp / (tp + fn)\n",
    "f1 = 2 * (precision * recall) / (precision + recall)"
   ]
  },
  {
   "cell_type": "code",
   "execution_count": 7,
   "metadata": {},
   "outputs": [],
   "source": [
    "y_pred, accuracy, precision, recall, f1 = predict(models, X_test)"
   ]
  },
  {
   "cell_type": "code",
   "execution_count": 8,
   "metadata": {},
   "outputs": [
    {
     "data": {
      "text/plain": [
       "(74232, 132846, 55800, 337122)"
      ]
     },
     "execution_count": 8,
     "metadata": {},
     "output_type": "execute_result"
    }
   ],
   "source": [
    "accuracy, precision, recall, f1"
   ]
  }
 ],
 "metadata": {
  "kernelspec": {
   "display_name": "Python 3.10.6 ('.venv': venv)",
   "language": "python",
   "name": "python3"
  },
  "language_info": {
   "codemirror_mode": {
    "name": "ipython",
    "version": 3
   },
   "file_extension": ".py",
   "mimetype": "text/x-python",
   "name": "python",
   "nbconvert_exporter": "python",
   "pygments_lexer": "ipython3",
   "version": "3.10.6"
  },
  "orig_nbformat": 4,
  "vscode": {
   "interpreter": {
    "hash": "bc00ff16b4df0209bbddf1b626f49197057a777b854bf55225ef9bf508d8a9ea"
   }
  }
 },
 "nbformat": 4,
 "nbformat_minor": 2
}
